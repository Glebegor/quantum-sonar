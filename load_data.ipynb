{
 "cells": [
  {
   "cell_type": "code",
   "execution_count": 1,
   "metadata": {},
   "outputs": [],
   "source": [
    "import qsonar.load"
   ]
  },
  {
   "cell_type": "code",
   "execution_count": 2,
   "metadata": {},
   "outputs": [],
   "source": [
    "# Load data from the internet (or from local file if already downloaded) into pandas DataFrame.\n",
    "# Features: f0, ..., f59 as np.float64\n",
    "# Target: Y as 'M'/'R' (mine/rock)\n",
    "\n",
    "df = qsonar.load.load_data_from_internet()"
   ]
  },
  {
   "cell_type": "code",
   "execution_count": 3,
   "metadata": {},
   "outputs": [],
   "source": [
    "# Scale and split the data into training and test sets.\n",
    "# X_train, X_test: np.ndarray of shape (m, n)s of np.float64 data\n",
    "# y_train, y_test: np.ndarray of booleans of shape (m,) where True means 'M'ine and False means 'R'ock\n",
    "# Default split is 80% training and 20% test and default random seed is 1337.\n",
    "\n",
    "X_train, X_test, y_train, y_test = qsonar.load.scale_and_split(df)"
   ]
  },
  {
   "cell_type": "code",
   "execution_count": null,
   "metadata": {},
   "outputs": [],
   "source": []
  }
 ],
 "metadata": {
  "kernelspec": {
   "display_name": "Python 3 (ipykernel)",
   "language": "python",
   "name": "python3"
  },
  "language_info": {
   "codemirror_mode": {
    "name": "ipython",
    "version": 3
   },
   "file_extension": ".py",
   "mimetype": "text/x-python",
   "name": "python",
   "nbconvert_exporter": "python",
   "pygments_lexer": "ipython3",
   "version": "3.11.7"
  }
 },
 "nbformat": 4,
 "nbformat_minor": 4
}
