{
 "cells": [
  {
   "cell_type": "code",
   "id": "initial_id",
   "metadata": {
    "collapsed": true
   },
   "source": [
    "import pandas as pd\n",
    "import numpy as np\n",
    "import matplotlib.pyplot as plt\n",
    "import qsonar.load"
   ],
   "outputs": [],
   "execution_count": null
  },
  {
   "metadata": {},
   "cell_type": "code",
   "source": [
    "df = qsonar.load.load_data_from_internet()\n",
    "df.replace({\"Y\":{\"R\": 0, \"M\": 1}}, inplace=True)\n",
    "df_features = df.iloc[:, :-1]"
   ],
   "id": "48bfee77e5631c51",
   "outputs": [],
   "execution_count": null
  },
  {
   "metadata": {},
   "cell_type": "code",
   "source": "df_features.info()",
   "id": "5f6a744211fd7edc",
   "outputs": [],
   "execution_count": null
  },
  {
   "metadata": {},
   "cell_type": "code",
   "source": "df_features.describe()",
   "id": "e3303bb8340c265f",
   "outputs": [],
   "execution_count": null
  },
  {
   "metadata": {},
   "cell_type": "code",
   "source": [
    "variances = df_features.var().sort_values(ascending=True)\n",
    "variances.plot(kind='barh', figsize=(10, 10))\n",
    "\n",
    "plt.title('Feature Variances')\n",
    "plt.xlabel('Variance')\n",
    "plt.ylabel('Feature')\n",
    "\n",
    "plt.show()"
   ],
   "id": "2e1f5e1ab3d7040e",
   "outputs": [],
   "execution_count": null
  },
  {
   "metadata": {},
   "cell_type": "code",
   "source": [
    "corr = df.corr()['Y'].abs().sort_values(ascending=True)\n",
    "corr.drop(\"Y\").plot(kind='barh', figsize=(10, 10))\n",
    "\n",
    "plt.title('Correlation with Target')\n",
    "plt.xlabel('Correlation')\n",
    "plt.ylabel('Feature')\n",
    "\n",
    "plt.show()"
   ],
   "id": "5313954bd49700f1",
   "outputs": [],
   "execution_count": null
  },
  {
   "metadata": {},
   "cell_type": "code",
   "source": [
    "def plot_corr(df: pd.DataFrame, title='Correlation Matrix') -> None:\n",
    "    f = plt.figure(figsize=(16, 10))\n",
    "    plt.matshow(df.corr(), fignum=f.number)\n",
    "    plt.xticks(range(df.select_dtypes(['number']).shape[1]), df.select_dtypes(['number']).columns, fontsize=8, rotation=90)\n",
    "    plt.yticks(range(df.select_dtypes(['number']).shape[1]), df.select_dtypes(['number']).columns, fontsize=8)\n",
    "    \n",
    "    cb = plt.colorbar()\n",
    "    cb.ax.tick_params(labelsize=14)\n",
    "    \n",
    "    plt.title(title, fontsize=16)\n",
    "    \n",
    "    plt.show()"
   ],
   "id": "d264e91c4a3d83d4",
   "outputs": [],
   "execution_count": null
  },
  {
   "metadata": {},
   "cell_type": "code",
   "source": "plot_corr(df)",
   "id": "eeb6427c7ac784ce",
   "outputs": [],
   "execution_count": null
  },
  {
   "metadata": {},
   "cell_type": "code",
   "source": "plot_corr(df_features[df.Y == 0], title='Correlation Matrix for Rocks')",
   "id": "5e7ad43efbfe60ba",
   "outputs": [],
   "execution_count": null
  },
  {
   "metadata": {},
   "cell_type": "code",
   "source": "plot_corr(df_features[df.Y == 1], title='Correlation Matrix for Mines')",
   "id": "9f7f394af280c20f",
   "outputs": [],
   "execution_count": null
  },
  {
   "metadata": {},
   "cell_type": "code",
   "source": [
    "df_features.plot(kind='box', sharex=False, sharey=False, figsize=(16, 16));\n",
    "\n",
    "plt.title('Distribution of feature values')\n",
    "plt.xlabel('Feature')\n",
    "plt.ylabel('Value')\n",
    "\n",
    "plt.show()"
   ],
   "id": "4b10f407967e68f9",
   "outputs": [],
   "execution_count": null
  },
  {
   "metadata": {},
   "cell_type": "code",
   "source": "",
   "id": "ec2dc2e6a17d9ad6",
   "outputs": [],
   "execution_count": null
  },
  {
   "metadata": {},
   "cell_type": "code",
   "source": "",
   "id": "d091beed88870721",
   "outputs": [],
   "execution_count": null
  },
  {
   "metadata": {},
   "cell_type": "code",
   "source": "",
   "id": "20c8fa4a46e0b761",
   "outputs": [],
   "execution_count": null
  }
 ],
 "metadata": {
  "kernelspec": {
   "display_name": "Python 3",
   "language": "python",
   "name": "python3"
  },
  "language_info": {
   "codemirror_mode": {
    "name": "ipython",
    "version": 2
   },
   "file_extension": ".py",
   "mimetype": "text/x-python",
   "name": "python",
   "nbconvert_exporter": "python",
   "pygments_lexer": "ipython2",
   "version": "2.7.6"
  }
 },
 "nbformat": 4,
 "nbformat_minor": 5
}
