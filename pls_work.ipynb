{
 "cells": [
  {
   "cell_type": "code",
   "id": "initial_id",
   "metadata": {
    "collapsed": true,
    "ExecuteTime": {
     "end_time": "2024-06-24T19:01:01.566033Z",
     "start_time": "2024-06-24T19:00:58.286644Z"
    }
   },
   "source": [
    "import qsonar.load\n",
    "from qsonar.data_objects.project_directories import ProjectDirectories\n",
    "from qsonar.data_objects.svm_configuration import SVMConfiguration\n",
    "from qsonar.svm.svm import SVM"
   ],
   "outputs": [
    {
     "name": "stderr",
     "output_type": "stream",
     "text": [
      "/Users/eliskakratka/Documents/quantum-stuff/venv/lib/python3.9/site-packages/urllib3/__init__.py:35: NotOpenSSLWarning: urllib3 v2 only supports OpenSSL 1.1.1+, currently the 'ssl' module is compiled with 'LibreSSL 2.8.3'. See: https://github.com/urllib3/urllib3/issues/3020\n",
      "  warnings.warn(\n"
     ]
    }
   ],
   "execution_count": 1
  },
  {
   "metadata": {},
   "cell_type": "code",
   "outputs": [],
   "execution_count": null,
   "source": "",
   "id": "cf55da16ad779ca3"
  },
  {
   "metadata": {
    "ExecuteTime": {
     "end_time": "2024-06-24T19:01:01.579436Z",
     "start_time": "2024-06-24T19:01:01.568121Z"
    }
   },
   "cell_type": "code",
   "source": "df = qsonar.load.load_data_from_internet()",
   "id": "1b1e4e83e7f00341",
   "outputs": [],
   "execution_count": 2
  },
  {
   "metadata": {
    "ExecuteTime": {
     "end_time": "2024-06-24T19:01:01.597342Z",
     "start_time": "2024-06-24T19:01:01.581457Z"
    }
   },
   "cell_type": "code",
   "source": [
    "X_train, X_test, y_train, y_test = qsonar.load.scale_and_split(df, pca_components=4)\n",
    "# train_size = 10\n",
    "# test_size = 10"
   ],
   "id": "35df2da9fa51d101",
   "outputs": [],
   "execution_count": 3
  },
  {
   "metadata": {
    "ExecuteTime": {
     "end_time": "2024-06-24T19:01:01.913399Z",
     "start_time": "2024-06-24T19:01:01.902213Z"
    }
   },
   "cell_type": "code",
   "source": "X_train.shape[0]",
   "id": "55e48c7ae6292611",
   "outputs": [
    {
     "data": {
      "text/plain": [
       "166"
      ]
     },
     "execution_count": 4,
     "metadata": {},
     "output_type": "execute_result"
    }
   ],
   "execution_count": 4
  },
  {
   "metadata": {
    "ExecuteTime": {
     "end_time": "2024-06-24T18:37:44.506130Z",
     "start_time": "2024-06-24T18:37:44.499299Z"
    }
   },
   "cell_type": "code",
   "source": [
    "# X_train = X_train[:train_size]\n",
    "# X_test = X_test[:test_size]\n",
    "# y_train = y_train[:train_size]\n",
    "# y_test = y_test[:test_size]"
   ],
   "id": "28923a81b0a0ec3e",
   "outputs": [],
   "execution_count": 5
  },
  {
   "metadata": {
    "ExecuteTime": {
     "end_time": "2024-06-24T19:01:04.370785Z",
     "start_time": "2024-06-24T19:01:04.366168Z"
    }
   },
   "cell_type": "code",
   "source": [
    "# Load dataset\n",
    "working_dir = \"/Users/eliskakratka/documents/quantum-stuff/\"\n",
    "directories = ProjectDirectories(working_dir)"
   ],
   "id": "4e0ad7d401d11264",
   "outputs": [],
   "execution_count": 5
  },
  {
   "metadata": {
    "ExecuteTime": {
     "end_time": "2024-06-24T19:01:37.627020Z",
     "start_time": "2024-06-24T19:01:05.701930Z"
    }
   },
   "cell_type": "code",
   "source": [
    "# Simulator + classical kernels\n",
    "n_qubits = 4\n",
    "depth = 2\n",
    "shots = 1\n",
    "\n",
    "config = SVMConfiguration(\n",
    "    X_train.shape[0],\n",
    "    X_test.shape[0],\n",
    "    n_qubits,\n",
    "    depth,\n",
    "    shots = shots,\n",
    "    train_samples = X_train,\n",
    "    test_samples = X_test,\n",
    "    train_labels = y_train,\n",
    "    test_labels = y_test\n",
    ")\n",
    "svm = SVM(directories, config)\n",
    "\n",
    "# Classify\n",
    "feature_maps = [\"zz\", \"pauli\", \"zzPhi\", \"z\"]\n",
    "classical_kernels = ['linear', 'poly', 'rbf', 'sigmoid']\n",
    "svm.classify(feature_maps=feature_maps)\n",
    "svm.classify(classical_kernels=classical_kernels)"
   ],
   "id": "a3569d9bd0c41268",
   "outputs": [
    {
     "name": "stdout",
     "output_type": "stream",
     "text": [
      "data (train/test): 166/42\n",
      "Number of qubits: 4\n",
      "Circuits depth: 2\n",
      "\n",
      "zzFeatureMap\n"
     ]
    },
    {
     "ename": "KeyboardInterrupt",
     "evalue": "",
     "output_type": "error",
     "traceback": [
      "\u001B[0;31m---------------------------------------------------------------------------\u001B[0m",
      "\u001B[0;31mKeyboardInterrupt\u001B[0m                         Traceback (most recent call last)",
      "Cell \u001B[0;32mIn[6], line 22\u001B[0m\n\u001B[1;32m     20\u001B[0m feature_maps \u001B[38;5;241m=\u001B[39m [\u001B[38;5;124m\"\u001B[39m\u001B[38;5;124mzz\u001B[39m\u001B[38;5;124m\"\u001B[39m, \u001B[38;5;124m\"\u001B[39m\u001B[38;5;124mpauli\u001B[39m\u001B[38;5;124m\"\u001B[39m, \u001B[38;5;124m\"\u001B[39m\u001B[38;5;124mzzPhi\u001B[39m\u001B[38;5;124m\"\u001B[39m, \u001B[38;5;124m\"\u001B[39m\u001B[38;5;124mz\u001B[39m\u001B[38;5;124m\"\u001B[39m]\n\u001B[1;32m     21\u001B[0m classical_kernels \u001B[38;5;241m=\u001B[39m [\u001B[38;5;124m'\u001B[39m\u001B[38;5;124mlinear\u001B[39m\u001B[38;5;124m'\u001B[39m, \u001B[38;5;124m'\u001B[39m\u001B[38;5;124mpoly\u001B[39m\u001B[38;5;124m'\u001B[39m, \u001B[38;5;124m'\u001B[39m\u001B[38;5;124mrbf\u001B[39m\u001B[38;5;124m'\u001B[39m, \u001B[38;5;124m'\u001B[39m\u001B[38;5;124msigmoid\u001B[39m\u001B[38;5;124m'\u001B[39m]\n\u001B[0;32m---> 22\u001B[0m \u001B[43msvm\u001B[49m\u001B[38;5;241;43m.\u001B[39;49m\u001B[43mclassify\u001B[49m\u001B[43m(\u001B[49m\u001B[43mfeature_maps\u001B[49m\u001B[38;5;241;43m=\u001B[39;49m\u001B[43mfeature_maps\u001B[49m\u001B[43m)\u001B[49m\n\u001B[1;32m     23\u001B[0m svm\u001B[38;5;241m.\u001B[39mclassify(classical_kernels\u001B[38;5;241m=\u001B[39mclassical_kernels)\n",
      "File \u001B[0;32m~/Documents/quantum-stuff/qsonar/svm/svm.py:92\u001B[0m, in \u001B[0;36mSVM.classify\u001B[0;34m(self, feature_maps, classical_kernels)\u001B[0m\n\u001B[1;32m     90\u001B[0m \u001B[38;5;28;01mfor\u001B[39;00m feature_map_type \u001B[38;5;129;01min\u001B[39;00m feature_maps:\n\u001B[1;32m     91\u001B[0m \t\u001B[38;5;28mprint\u001B[39m(\u001B[38;5;124mf\u001B[39m\u001B[38;5;124m'\u001B[39m\u001B[38;5;132;01m{\u001B[39;00mfeature_map_type\u001B[38;5;132;01m}\u001B[39;00m\u001B[38;5;124mFeatureMap\u001B[39m\u001B[38;5;124m'\u001B[39m)\n\u001B[0;32m---> 92\u001B[0m \taccuracy, f1, recall \u001B[38;5;241m=\u001B[39m \u001B[43mqsvm\u001B[49m\u001B[38;5;241;43m.\u001B[39;49m\u001B[43mclassify\u001B[49m\u001B[43m(\u001B[49m\u001B[43mfeature_map_type\u001B[49m\u001B[43m)\u001B[49m\n\u001B[1;32m     93\u001B[0m \t\u001B[38;5;28;01mif\u001B[39;00m \u001B[38;5;28mself\u001B[39m\u001B[38;5;241m.\u001B[39m_config\u001B[38;5;241m.\u001B[39mruntime_jobs_completed \u001B[38;5;129;01mis\u001B[39;00m \u001B[38;5;129;01mnot\u001B[39;00m \u001B[38;5;28;01mFalse\u001B[39;00m:\n\u001B[1;32m     94\u001B[0m \t\t\u001B[38;5;66;03m# Either it's on simulator or they finished -> print results\u001B[39;00m\n\u001B[1;32m     95\u001B[0m \t\t\u001B[38;5;28mprint\u001B[39m(\u001B[38;5;124mf\u001B[39m\u001B[38;5;124m'\u001B[39m\u001B[38;5;124maccuracy: \u001B[39m\u001B[38;5;132;01m{\u001B[39;00maccuracy\u001B[38;5;132;01m:\u001B[39;00m\u001B[38;5;124m.3f\u001B[39m\u001B[38;5;132;01m}\u001B[39;00m\u001B[38;5;124m'\u001B[39m)\n",
      "File \u001B[0;32m~/Documents/quantum-stuff/qsonar/svm/qsvm.py:94\u001B[0m, in \u001B[0;36mQSVM.classify\u001B[0;34m(self, feature_map_type)\u001B[0m\n\u001B[1;32m     71\u001B[0m \u001B[38;5;250m\u001B[39m\u001B[38;5;124;03m\"\"\"\u001B[39;00m\n\u001B[1;32m     72\u001B[0m \u001B[38;5;124;03mPerform quantum classification using a specified quantum feature map.\u001B[39;00m\n\u001B[1;32m     73\u001B[0m \n\u001B[0;32m   (...)\u001B[0m\n\u001B[1;32m     91\u001B[0m \u001B[38;5;124;03m\tIf jobs' status or the path for classification parameters is not provided.\u001B[39;00m\n\u001B[1;32m     92\u001B[0m \u001B[38;5;124;03m\"\"\"\u001B[39;00m\n\u001B[1;32m     93\u001B[0m \u001B[38;5;28;01mif\u001B[39;00m \u001B[38;5;28mself\u001B[39m\u001B[38;5;241m.\u001B[39m_config\u001B[38;5;241m.\u001B[39msimulator:\n\u001B[0;32m---> 94\u001B[0m \tmatrix_train, matrix_test \u001B[38;5;241m=\u001B[39m \u001B[38;5;28;43mself\u001B[39;49m\u001B[38;5;241;43m.\u001B[39;49m\u001B[43m__evaluate_on_simulator\u001B[49m\u001B[43m(\u001B[49m\u001B[43mfeature_map_type\u001B[49m\u001B[43m)\u001B[49m\n\u001B[1;32m     95\u001B[0m \u001B[38;5;28;01melse\u001B[39;00m:\n\u001B[1;32m     96\u001B[0m \t\u001B[38;5;28;01mif\u001B[39;00m \u001B[38;5;28mself\u001B[39m\u001B[38;5;241m.\u001B[39m_config\u001B[38;5;241m.\u001B[39mruntime_jobs_completed \u001B[38;5;129;01mis\u001B[39;00m \u001B[38;5;28;01mNone\u001B[39;00m:\n",
      "File \u001B[0;32m~/Documents/quantum-stuff/qsonar/svm/qsvm.py:144\u001B[0m, in \u001B[0;36mQSVM.__evaluate_on_simulator\u001B[0;34m(self, feature_map_type)\u001B[0m\n\u001B[1;32m    141\u001B[0m kernel \u001B[38;5;241m=\u001B[39m FidelityQuantumKernelForIBMQuantum(feature_map\u001B[38;5;241m=\u001B[39mfeature_map, fidelity\u001B[38;5;241m=\u001B[39mfidelity)\n\u001B[1;32m    143\u001B[0m \u001B[38;5;66;03m# Compute train matrix\u001B[39;00m\n\u001B[0;32m--> 144\u001B[0m matrix_train \u001B[38;5;241m=\u001B[39m \u001B[43mkernel\u001B[49m\u001B[38;5;241;43m.\u001B[39;49m\u001B[43mevaluate\u001B[49m\u001B[43m(\u001B[49m\u001B[43mx_vec\u001B[49m\u001B[38;5;241;43m=\u001B[39;49m\u001B[38;5;28;43mself\u001B[39;49m\u001B[38;5;241;43m.\u001B[39;49m\u001B[43m_config\u001B[49m\u001B[38;5;241;43m.\u001B[39;49m\u001B[43mtrain_samples\u001B[49m\u001B[43m)\u001B[49m\n\u001B[1;32m    146\u001B[0m \u001B[38;5;66;03m# Compute test matrix\u001B[39;00m\n\u001B[1;32m    147\u001B[0m matrix_test \u001B[38;5;241m=\u001B[39m kernel\u001B[38;5;241m.\u001B[39mevaluate(x_vec\u001B[38;5;241m=\u001B[39m\u001B[38;5;28mself\u001B[39m\u001B[38;5;241m.\u001B[39m_config\u001B[38;5;241m.\u001B[39mtest_samples, y_vec\u001B[38;5;241m=\u001B[39m\u001B[38;5;28mself\u001B[39m\u001B[38;5;241m.\u001B[39m_config\u001B[38;5;241m.\u001B[39mtrain_samples)\n",
      "File \u001B[0;32m~/Documents/quantum-stuff/qsonar/svm/fidelity_quantum_kernel_for_qiskit_ibm_runtime.py:205\u001B[0m, in \u001B[0;36mFidelityQuantumKernelForIBMQuantum.evaluate\u001B[0;34m(self, x_vec, y_vec)\u001B[0m\n\u001B[1;32m    199\u001B[0m \u001B[38;5;28;01mdef\u001B[39;00m \u001B[38;5;21mevaluate\u001B[39m(\n\u001B[1;32m    200\u001B[0m     \u001B[38;5;28mself\u001B[39m,\n\u001B[1;32m    201\u001B[0m     x_vec: np\u001B[38;5;241m.\u001B[39mndarray,\n\u001B[1;32m    202\u001B[0m     y_vec: np\u001B[38;5;241m.\u001B[39mndarray \u001B[38;5;241m|\u001B[39m \u001B[38;5;28;01mNone\u001B[39;00m \u001B[38;5;241m=\u001B[39m \u001B[38;5;28;01mNone\u001B[39;00m\n\u001B[1;32m    203\u001B[0m ) \u001B[38;5;241m-\u001B[39m\u001B[38;5;241m>\u001B[39m np\u001B[38;5;241m.\u001B[39mndarray:\n\u001B[1;32m    204\u001B[0m     matrix_config \u001B[38;5;241m=\u001B[39m \u001B[38;5;28mself\u001B[39m\u001B[38;5;241m.\u001B[39mget_kernel_matrix_config(x_vec, y_vec)\n\u001B[0;32m--> 205\u001B[0m     kernel_matrix \u001B[38;5;241m=\u001B[39m \u001B[38;5;28;43mself\u001B[39;49m\u001B[38;5;241;43m.\u001B[39;49m\u001B[43mevaluate_matrix\u001B[49m\u001B[43m(\u001B[49m\u001B[43mmatrix_config\u001B[49m\u001B[43m)\u001B[49m\n\u001B[1;32m    206\u001B[0m     \u001B[38;5;28;01mreturn\u001B[39;00m kernel_matrix\n",
      "File \u001B[0;32m~/Documents/quantum-stuff/qsonar/svm/fidelity_quantum_kernel_for_qiskit_ibm_runtime.py:190\u001B[0m, in \u001B[0;36mFidelityQuantumKernelForIBMQuantum.evaluate_matrix\u001B[0;34m(self, matrix_config)\u001B[0m\n\u001B[1;32m    175\u001B[0m \u001B[38;5;250m\u001B[39m\u001B[38;5;124;03m\"\"\"\u001B[39;00m\n\u001B[1;32m    176\u001B[0m \u001B[38;5;124;03mConstruct the kernel matrix for the given data using the provided matrix configuration.\u001B[39;00m\n\u001B[1;32m    177\u001B[0m \n\u001B[0;32m   (...)\u001B[0m\n\u001B[1;32m    187\u001B[0m \u001B[38;5;124;03m    2D kernel matrix, NxM.\u001B[39;00m\n\u001B[1;32m    188\u001B[0m \u001B[38;5;124;03m\"\"\"\u001B[39;00m\n\u001B[1;32m    189\u001B[0m \u001B[38;5;28;01mif\u001B[39;00m matrix_config\u001B[38;5;241m.\u001B[39mis_symmetric:\n\u001B[0;32m--> 190\u001B[0m     kernel_matrix \u001B[38;5;241m=\u001B[39m \u001B[38;5;28;43mself\u001B[39;49m\u001B[38;5;241;43m.\u001B[39;49m\u001B[43m__get_symmetric_kernel_matrix\u001B[49m\u001B[43m(\u001B[49m\u001B[43mmatrix_config\u001B[49m\u001B[43m)\u001B[49m\n\u001B[1;32m    191\u001B[0m \u001B[38;5;28;01melse\u001B[39;00m:\n\u001B[1;32m    192\u001B[0m     kernel_matrix \u001B[38;5;241m=\u001B[39m \u001B[38;5;28mself\u001B[39m\u001B[38;5;241m.\u001B[39m__get_kernel_matrix(matrix_config)\n",
      "File \u001B[0;32m~/Documents/quantum-stuff/qsonar/svm/fidelity_quantum_kernel_for_qiskit_ibm_runtime.py:279\u001B[0m, in \u001B[0;36mFidelityQuantumKernelForIBMQuantum.__get_symmetric_kernel_matrix\u001B[0;34m(self, matrix_config)\u001B[0m\n\u001B[1;32m    272\u001B[0m \u001B[38;5;28;01mdef\u001B[39;00m \u001B[38;5;21m__get_symmetric_kernel_matrix\u001B[39m(\n\u001B[1;32m    273\u001B[0m     \u001B[38;5;28mself\u001B[39m,\n\u001B[1;32m    274\u001B[0m     matrix_config: KernelMatrixConfiguration\n\u001B[1;32m    275\u001B[0m ) \u001B[38;5;241m-\u001B[39m\u001B[38;5;241m>\u001B[39m np\u001B[38;5;241m.\u001B[39mndarray:\n\u001B[1;32m    276\u001B[0m \u001B[38;5;250m    \u001B[39m\u001B[38;5;124;03m\"\"\"\u001B[39;00m\n\u001B[1;32m    277\u001B[0m \u001B[38;5;124;03m    Given a set of parameterization, this computes the kernel matrix.\u001B[39;00m\n\u001B[1;32m    278\u001B[0m \u001B[38;5;124;03m    \"\"\"\u001B[39;00m\n\u001B[0;32m--> 279\u001B[0m     kernel_entries \u001B[38;5;241m=\u001B[39m \u001B[38;5;28;43mself\u001B[39;49m\u001B[38;5;241;43m.\u001B[39;49m\u001B[43m__get_kernel_entries\u001B[49m\u001B[43m(\u001B[49m\u001B[43mmatrix_config\u001B[49m\u001B[43m)\u001B[49m\n\u001B[1;32m    280\u001B[0m     kernel_matrix \u001B[38;5;241m=\u001B[39m np\u001B[38;5;241m.\u001B[39mones(matrix_config\u001B[38;5;241m.\u001B[39mkernel_shape)\n\u001B[1;32m    282\u001B[0m     \u001B[38;5;28;01mfor\u001B[39;00m i, (col, row) \u001B[38;5;129;01min\u001B[39;00m \u001B[38;5;28menumerate\u001B[39m(matrix_config\u001B[38;5;241m.\u001B[39mindices):\n",
      "File \u001B[0;32m~/Documents/quantum-stuff/qsonar/svm/fidelity_quantum_kernel_for_qiskit_ibm_runtime.py:300\u001B[0m, in \u001B[0;36mFidelityQuantumKernelForIBMQuantum.__get_kernel_entries\u001B[0;34m(self, matrix_config)\u001B[0m\n\u001B[1;32m    298\u001B[0m \u001B[38;5;28;01mif\u001B[39;00m matrix_config\u001B[38;5;241m.\u001B[39mnum_circuits \u001B[38;5;241m!=\u001B[39m \u001B[38;5;241m0\u001B[39m:\n\u001B[1;32m    299\u001B[0m     \u001B[38;5;28;01mif\u001B[39;00m \u001B[38;5;28mself\u001B[39m\u001B[38;5;241m.\u001B[39m_max_circuits_per_job \u001B[38;5;129;01mis\u001B[39;00m \u001B[38;5;28;01mNone\u001B[39;00m:\n\u001B[0;32m--> 300\u001B[0m         matrix_config\u001B[38;5;241m.\u001B[39mkernel_entries \u001B[38;5;241m=\u001B[39m \u001B[38;5;28;43mself\u001B[39;49m\u001B[38;5;241;43m.\u001B[39;49m\u001B[43m_fidelity\u001B[49m\u001B[38;5;241;43m.\u001B[39;49m\u001B[43mget_fidelities\u001B[49m\u001B[43m(\u001B[49m\u001B[43mmatrix_config\u001B[49m\u001B[38;5;241;43m.\u001B[39;49m\u001B[43mjobs\u001B[49m\u001B[43m)\u001B[49m\n\u001B[1;32m    301\u001B[0m     \u001B[38;5;28;01melse\u001B[39;00m:\n\u001B[1;32m    302\u001B[0m         \u001B[38;5;66;03m# Determine the number of chunks needed\u001B[39;00m\n\u001B[1;32m    303\u001B[0m         num_chunks \u001B[38;5;241m=\u001B[39m (\n\u001B[1;32m    304\u001B[0m             matrix_config\u001B[38;5;241m.\u001B[39mnum_circuits \u001B[38;5;241m+\u001B[39m \u001B[38;5;28mself\u001B[39m\u001B[38;5;241m.\u001B[39m_max_circuits_per_job \u001B[38;5;241m-\u001B[39m \u001B[38;5;241m1\u001B[39m\n\u001B[1;32m    305\u001B[0m         ) \u001B[38;5;241m/\u001B[39m\u001B[38;5;241m/\u001B[39m \u001B[38;5;28mself\u001B[39m\u001B[38;5;241m.\u001B[39m_max_circuits_per_job\n",
      "File \u001B[0;32m~/Documents/quantum-stuff/qsonar/svm/compute_uncompute_for_qiskit_ibm_runtime.py:283\u001B[0m, in \u001B[0;36mComputeUncomputeForIBMQuantum.get_fidelities\u001B[0;34m(self, jobs)\u001B[0m\n\u001B[1;32m    281\u001B[0m \u001B[38;5;28;01mif\u001B[39;00m \u001B[38;5;28mself\u001B[39m\u001B[38;5;241m.\u001B[39m_simulator:\n\u001B[1;32m    282\u001B[0m     job \u001B[38;5;241m=\u001B[39m jobs[\u001B[38;5;241m0\u001B[39m]\n\u001B[0;32m--> 283\u001B[0m     result \u001B[38;5;241m=\u001B[39m \u001B[43mjob\u001B[49m\u001B[38;5;241;43m.\u001B[39;49m\u001B[43mresult\u001B[49m\u001B[43m(\u001B[49m\u001B[43m)\u001B[49m\n\u001B[1;32m    284\u001B[0m     raw_fidelities \u001B[38;5;241m=\u001B[39m [\n\u001B[1;32m    285\u001B[0m         ComputeUncomputeForIBMQuantum\u001B[38;5;241m.\u001B[39m_get_global_fidelity(prob_dist) \u001B[38;5;28;01mfor\u001B[39;00m prob_dist \u001B[38;5;129;01min\u001B[39;00m result\u001B[38;5;241m.\u001B[39mquasi_dists\n\u001B[1;32m    286\u001B[0m     ]\n\u001B[1;32m    287\u001B[0m     \u001B[38;5;28;01mreturn\u001B[39;00m ComputeUncomputeForIBMQuantum\u001B[38;5;241m.\u001B[39m_truncate_fidelities(raw_fidelities)\n",
      "File \u001B[0;32m~/Documents/quantum-stuff/venv/lib/python3.9/site-packages/qiskit/primitives/primitive_job.py:51\u001B[0m, in \u001B[0;36mPrimitiveJob.result\u001B[0;34m(self)\u001B[0m\n\u001B[1;32m     49\u001B[0m \u001B[38;5;28;01mdef\u001B[39;00m \u001B[38;5;21mresult\u001B[39m(\u001B[38;5;28mself\u001B[39m) \u001B[38;5;241m-\u001B[39m\u001B[38;5;241m>\u001B[39m ResultT:\n\u001B[1;32m     50\u001B[0m     \u001B[38;5;28mself\u001B[39m\u001B[38;5;241m.\u001B[39m_check_submitted()\n\u001B[0;32m---> 51\u001B[0m     \u001B[38;5;28;01mreturn\u001B[39;00m \u001B[38;5;28;43mself\u001B[39;49m\u001B[38;5;241;43m.\u001B[39;49m\u001B[43m_future\u001B[49m\u001B[38;5;241;43m.\u001B[39;49m\u001B[43mresult\u001B[49m\u001B[43m(\u001B[49m\u001B[43m)\u001B[49m\n",
      "File \u001B[0;32m/Library/Developer/CommandLineTools/Library/Frameworks/Python3.framework/Versions/3.9/lib/python3.9/concurrent/futures/_base.py:440\u001B[0m, in \u001B[0;36mFuture.result\u001B[0;34m(self, timeout)\u001B[0m\n\u001B[1;32m    437\u001B[0m \u001B[38;5;28;01melif\u001B[39;00m \u001B[38;5;28mself\u001B[39m\u001B[38;5;241m.\u001B[39m_state \u001B[38;5;241m==\u001B[39m FINISHED:\n\u001B[1;32m    438\u001B[0m     \u001B[38;5;28;01mreturn\u001B[39;00m \u001B[38;5;28mself\u001B[39m\u001B[38;5;241m.\u001B[39m__get_result()\n\u001B[0;32m--> 440\u001B[0m \u001B[38;5;28;43mself\u001B[39;49m\u001B[38;5;241;43m.\u001B[39;49m\u001B[43m_condition\u001B[49m\u001B[38;5;241;43m.\u001B[39;49m\u001B[43mwait\u001B[49m\u001B[43m(\u001B[49m\u001B[43mtimeout\u001B[49m\u001B[43m)\u001B[49m\n\u001B[1;32m    442\u001B[0m \u001B[38;5;28;01mif\u001B[39;00m \u001B[38;5;28mself\u001B[39m\u001B[38;5;241m.\u001B[39m_state \u001B[38;5;129;01min\u001B[39;00m [CANCELLED, CANCELLED_AND_NOTIFIED]:\n\u001B[1;32m    443\u001B[0m     \u001B[38;5;28;01mraise\u001B[39;00m CancelledError()\n",
      "File \u001B[0;32m/Library/Developer/CommandLineTools/Library/Frameworks/Python3.framework/Versions/3.9/lib/python3.9/threading.py:312\u001B[0m, in \u001B[0;36mCondition.wait\u001B[0;34m(self, timeout)\u001B[0m\n\u001B[1;32m    310\u001B[0m \u001B[38;5;28;01mtry\u001B[39;00m:    \u001B[38;5;66;03m# restore state no matter what (e.g., KeyboardInterrupt)\u001B[39;00m\n\u001B[1;32m    311\u001B[0m     \u001B[38;5;28;01mif\u001B[39;00m timeout \u001B[38;5;129;01mis\u001B[39;00m \u001B[38;5;28;01mNone\u001B[39;00m:\n\u001B[0;32m--> 312\u001B[0m         \u001B[43mwaiter\u001B[49m\u001B[38;5;241;43m.\u001B[39;49m\u001B[43macquire\u001B[49m\u001B[43m(\u001B[49m\u001B[43m)\u001B[49m\n\u001B[1;32m    313\u001B[0m         gotit \u001B[38;5;241m=\u001B[39m \u001B[38;5;28;01mTrue\u001B[39;00m\n\u001B[1;32m    314\u001B[0m     \u001B[38;5;28;01melse\u001B[39;00m:\n",
      "\u001B[0;31mKeyboardInterrupt\u001B[0m: "
     ]
    }
   ],
   "execution_count": 6
  },
  {
   "metadata": {
    "ExecuteTime": {
     "end_time": "2024-06-24T17:47:22.398412Z",
     "start_time": "2024-06-24T17:46:26.410163Z"
    }
   },
   "cell_type": "code",
   "source": [
    "# Real ibm quantum comp\n",
    "n_qubits = 4\n",
    "depth = 2\n",
    "shots = 10\n",
    "\n",
    "\n",
    "config = SVMConfiguration(\n",
    "    X_train.shape[0],\n",
    "    X_test.shape[0],\n",
    "    n_qubits,\n",
    "    depth,\n",
    "    shots = shots,\n",
    "    train_samples = X_train,\n",
    "    test_samples = X_test,\n",
    "    train_labels = y_train,\n",
    "    test_labels = y_test,\n",
    "    simulator=False,\n",
    "\tibm_backend= \"\",\n",
    "\truntime_jobs_completed = False\n",
    ")\n",
    "\n",
    "svm = SVM(directories, config)\n",
    "\n",
    "\n",
    "# Classify\n",
    "svm.classify(feature_maps=['zz'])"
   ],
   "id": "675626728cf01bf",
   "outputs": [
    {
     "name": "stdout",
     "output_type": "stream",
     "text": [
      "data (train/test): 4/2\n",
      "Number of qubits: 4\n",
      "Circuits depth: 2\n",
      "\n",
      "zzFeatureMap\n",
      "Jobs submitted!\n",
      "Jobs submitted!\n",
      "Waiting for jobs to finish.\n"
     ]
    }
   ],
   "execution_count": 7
  }
 ],
 "metadata": {
  "kernelspec": {
   "display_name": "Python 3",
   "language": "python",
   "name": "python3"
  },
  "language_info": {
   "codemirror_mode": {
    "name": "ipython",
    "version": 2
   },
   "file_extension": ".py",
   "mimetype": "text/x-python",
   "name": "python",
   "nbconvert_exporter": "python",
   "pygments_lexer": "ipython2",
   "version": "2.7.6"
  }
 },
 "nbformat": 4,
 "nbformat_minor": 5
}
