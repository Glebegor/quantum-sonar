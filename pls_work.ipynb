{
 "cells": [
  {
   "cell_type": "code",
   "id": "initial_id",
   "metadata": {
    "collapsed": true,
    "ExecuteTime": {
     "end_time": "2024-06-24T17:03:50.424068Z",
     "start_time": "2024-06-24T17:03:27.069769Z"
    }
   },
   "source": "import qsonar.load",
   "outputs": [
    {
     "name": "stderr",
     "output_type": "stream",
     "text": [
      "/Users/eliskakratka/Documents/quantum-stuff/venv/lib/python3.9/site-packages/urllib3/__init__.py:35: NotOpenSSLWarning: urllib3 v2 only supports OpenSSL 1.1.1+, currently the 'ssl' module is compiled with 'LibreSSL 2.8.3'. See: https://github.com/urllib3/urllib3/issues/3020\n",
      "  warnings.warn(\n"
     ]
    }
   ],
   "execution_count": 1
  },
  {
   "metadata": {
    "ExecuteTime": {
     "end_time": "2024-06-24T17:04:49.613798Z",
     "start_time": "2024-06-24T17:04:49.602910Z"
    }
   },
   "cell_type": "code",
   "source": "df = qsonar.load.load_data_from_internet()",
   "id": "1b1e4e83e7f00341",
   "outputs": [],
   "execution_count": 4
  },
  {
   "metadata": {
    "ExecuteTime": {
     "end_time": "2024-06-24T17:04:50.932057Z",
     "start_time": "2024-06-24T17:04:50.912670Z"
    }
   },
   "cell_type": "code",
   "source": "X_train, X_test, y_train, y_test = qsonar.load.scale_and_split(df)",
   "id": "35df2da9fa51d101",
   "outputs": [],
   "execution_count": 5
  },
  {
   "metadata": {
    "ExecuteTime": {
     "end_time": "2024-06-24T17:05:02.909277Z",
     "start_time": "2024-06-24T17:05:02.898382Z"
    }
   },
   "cell_type": "code",
   "source": "",
   "id": "4e0ad7d401d11264",
   "outputs": [
    {
     "data": {
      "text/plain": [
       "161     True\n",
       "141     True\n",
       "24     False\n",
       "124     True\n",
       "55     False\n",
       "       ...  \n",
       "204     True\n",
       "167     True\n",
       "92     False\n",
       "189     True\n",
       "151     True\n",
       "Name: Y, Length: 166, dtype: bool"
      ]
     },
     "execution_count": 7,
     "metadata": {},
     "output_type": "execute_result"
    }
   ],
   "execution_count": 7
  },
  {
   "metadata": {},
   "cell_type": "code",
   "outputs": [],
   "execution_count": null,
   "source": "",
   "id": "a3569d9bd0c41268"
  }
 ],
 "metadata": {
  "kernelspec": {
   "display_name": "Python 3",
   "language": "python",
   "name": "python3"
  },
  "language_info": {
   "codemirror_mode": {
    "name": "ipython",
    "version": 2
   },
   "file_extension": ".py",
   "mimetype": "text/x-python",
   "name": "python",
   "nbconvert_exporter": "python",
   "pygments_lexer": "ipython2",
   "version": "2.7.6"
  }
 },
 "nbformat": 4,
 "nbformat_minor": 5
}
