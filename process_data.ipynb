{
 "cells": [
  {
   "metadata": {
    "ExecuteTime": {
     "end_time": "2024-06-25T08:56:03.841598Z",
     "start_time": "2024-06-25T08:56:03.839112Z"
    }
   },
   "cell_type": "code",
   "source": [
    "import json\n",
    "\n",
    "import pandas as pd"
   ],
   "id": "7555bf3dd461b802",
   "outputs": [],
   "execution_count": 25
  },
  {
   "cell_type": "code",
   "id": "initial_id",
   "metadata": {
    "collapsed": true,
    "ExecuteTime": {
     "end_time": "2024-06-25T10:17:59.526481Z",
     "start_time": "2024-06-25T10:17:59.473350Z"
    }
   },
   "source": [
    "# \n",
    "\n",
    "with open('simulator_data.ods', 'rb') as f:\n",
    "    df = pd.read_excel(f, engine='odf')"
   ],
   "outputs": [],
   "execution_count": 112
  },
  {
   "metadata": {
    "ExecuteTime": {
     "end_time": "2024-06-25T10:17:59.784864Z",
     "start_time": "2024-06-25T10:17:59.775903Z"
    }
   },
   "cell_type": "code",
   "source": "df",
   "id": "52a94e52ca0f6a22",
   "outputs": [
    {
     "data": {
      "text/plain": [
       "   qbits    Unnamed: 1    acc     f1    rec       Unnamed: 5  acc.1   f1.1  \\\n",
       "0      2  zzFeatureMap  0.571  0.565  0.727  pauliFeatureMap  0.476  0.461   \n",
       "1      4  zzFeatureMap  0.571  0.565  0.682  pauliFeatureMap  0.476  0.461   \n",
       "2      8  zzFeatureMap  0.548  0.547  0.591  pauliFeatureMap  0.548  0.531   \n",
       "3     10  zzFeatureMap  0.595  0.595  0.636  pauliFeatureMap  0.548  0.538   \n",
       "4     12  zzFeatureMap  0.524  0.517  0.636  pauliFeatureMap  0.548  0.520   \n",
       "5     16  zzFeatureMap  0.548  0.538  0.682  pauliFeatureMap  0.548  0.531   \n",
       "6     20  zzFeatureMap  0.548  0.538  0.636  pauliFeatureMap  0.548  0.531   \n",
       "7     24  zzFeatureMap  0.548  0.538  0.545  pauliFeatureMap  0.548  0.531   \n",
       "\n",
       "   rec.1       Unnamed: 9  acc.2   f1.2  rec.2  Unnamed: 13  acc.3   f1.3  \\\n",
       "0  0.636  zzPhiFeatureMap  0.524  0.517  0.636  zFeatureMap  0.476  0.461   \n",
       "1  0.636  zzPhiFeatureMap  0.524  0.517  0.636  zFeatureMap  0.476  0.461   \n",
       "2  0.727  zzPhiFeatureMap  0.571  0.569  0.636  zFeatureMap  0.429  0.367   \n",
       "3  0.682  zzPhiFeatureMap  0.667  0.667  0.682  zFeatureMap  0.452  0.403   \n",
       "4  0.773  zzPhiFeatureMap  0.571  0.559  0.727  zFeatureMap  0.500  0.481   \n",
       "5  0.727  zzPhiFeatureMap  0.643  0.642  0.682  zFeatureMap  0.476  0.461   \n",
       "6  0.773  zzPhiFeatureMap  0.643  0.642  0.727  zFeatureMap  0.476  0.461   \n",
       "7  0.818  zzPhiFeatureMap  0.643  0.642  0.636  zFeatureMap  0.476  0.461   \n",
       "\n",
       "   rec.3  \n",
       "0  0.682  \n",
       "1  0.636  \n",
       "2  0.727  \n",
       "3  0.727  \n",
       "4  0.682  \n",
       "5  0.636  \n",
       "6  0.591  \n",
       "7  0.591  "
      ],
      "text/html": [
       "<div>\n",
       "<style scoped>\n",
       "    .dataframe tbody tr th:only-of-type {\n",
       "        vertical-align: middle;\n",
       "    }\n",
       "\n",
       "    .dataframe tbody tr th {\n",
       "        vertical-align: top;\n",
       "    }\n",
       "\n",
       "    .dataframe thead th {\n",
       "        text-align: right;\n",
       "    }\n",
       "</style>\n",
       "<table border=\"1\" class=\"dataframe\">\n",
       "  <thead>\n",
       "    <tr style=\"text-align: right;\">\n",
       "      <th></th>\n",
       "      <th>qbits</th>\n",
       "      <th>Unnamed: 1</th>\n",
       "      <th>acc</th>\n",
       "      <th>f1</th>\n",
       "      <th>rec</th>\n",
       "      <th>Unnamed: 5</th>\n",
       "      <th>acc.1</th>\n",
       "      <th>f1.1</th>\n",
       "      <th>rec.1</th>\n",
       "      <th>Unnamed: 9</th>\n",
       "      <th>acc.2</th>\n",
       "      <th>f1.2</th>\n",
       "      <th>rec.2</th>\n",
       "      <th>Unnamed: 13</th>\n",
       "      <th>acc.3</th>\n",
       "      <th>f1.3</th>\n",
       "      <th>rec.3</th>\n",
       "    </tr>\n",
       "  </thead>\n",
       "  <tbody>\n",
       "    <tr>\n",
       "      <th>0</th>\n",
       "      <td>2</td>\n",
       "      <td>zzFeatureMap</td>\n",
       "      <td>0.571</td>\n",
       "      <td>0.565</td>\n",
       "      <td>0.727</td>\n",
       "      <td>pauliFeatureMap</td>\n",
       "      <td>0.476</td>\n",
       "      <td>0.461</td>\n",
       "      <td>0.636</td>\n",
       "      <td>zzPhiFeatureMap</td>\n",
       "      <td>0.524</td>\n",
       "      <td>0.517</td>\n",
       "      <td>0.636</td>\n",
       "      <td>zFeatureMap</td>\n",
       "      <td>0.476</td>\n",
       "      <td>0.461</td>\n",
       "      <td>0.682</td>\n",
       "    </tr>\n",
       "    <tr>\n",
       "      <th>1</th>\n",
       "      <td>4</td>\n",
       "      <td>zzFeatureMap</td>\n",
       "      <td>0.571</td>\n",
       "      <td>0.565</td>\n",
       "      <td>0.682</td>\n",
       "      <td>pauliFeatureMap</td>\n",
       "      <td>0.476</td>\n",
       "      <td>0.461</td>\n",
       "      <td>0.636</td>\n",
       "      <td>zzPhiFeatureMap</td>\n",
       "      <td>0.524</td>\n",
       "      <td>0.517</td>\n",
       "      <td>0.636</td>\n",
       "      <td>zFeatureMap</td>\n",
       "      <td>0.476</td>\n",
       "      <td>0.461</td>\n",
       "      <td>0.636</td>\n",
       "    </tr>\n",
       "    <tr>\n",
       "      <th>2</th>\n",
       "      <td>8</td>\n",
       "      <td>zzFeatureMap</td>\n",
       "      <td>0.548</td>\n",
       "      <td>0.547</td>\n",
       "      <td>0.591</td>\n",
       "      <td>pauliFeatureMap</td>\n",
       "      <td>0.548</td>\n",
       "      <td>0.531</td>\n",
       "      <td>0.727</td>\n",
       "      <td>zzPhiFeatureMap</td>\n",
       "      <td>0.571</td>\n",
       "      <td>0.569</td>\n",
       "      <td>0.636</td>\n",
       "      <td>zFeatureMap</td>\n",
       "      <td>0.429</td>\n",
       "      <td>0.367</td>\n",
       "      <td>0.727</td>\n",
       "    </tr>\n",
       "    <tr>\n",
       "      <th>3</th>\n",
       "      <td>10</td>\n",
       "      <td>zzFeatureMap</td>\n",
       "      <td>0.595</td>\n",
       "      <td>0.595</td>\n",
       "      <td>0.636</td>\n",
       "      <td>pauliFeatureMap</td>\n",
       "      <td>0.548</td>\n",
       "      <td>0.538</td>\n",
       "      <td>0.682</td>\n",
       "      <td>zzPhiFeatureMap</td>\n",
       "      <td>0.667</td>\n",
       "      <td>0.667</td>\n",
       "      <td>0.682</td>\n",
       "      <td>zFeatureMap</td>\n",
       "      <td>0.452</td>\n",
       "      <td>0.403</td>\n",
       "      <td>0.727</td>\n",
       "    </tr>\n",
       "    <tr>\n",
       "      <th>4</th>\n",
       "      <td>12</td>\n",
       "      <td>zzFeatureMap</td>\n",
       "      <td>0.524</td>\n",
       "      <td>0.517</td>\n",
       "      <td>0.636</td>\n",
       "      <td>pauliFeatureMap</td>\n",
       "      <td>0.548</td>\n",
       "      <td>0.520</td>\n",
       "      <td>0.773</td>\n",
       "      <td>zzPhiFeatureMap</td>\n",
       "      <td>0.571</td>\n",
       "      <td>0.559</td>\n",
       "      <td>0.727</td>\n",
       "      <td>zFeatureMap</td>\n",
       "      <td>0.500</td>\n",
       "      <td>0.481</td>\n",
       "      <td>0.682</td>\n",
       "    </tr>\n",
       "    <tr>\n",
       "      <th>5</th>\n",
       "      <td>16</td>\n",
       "      <td>zzFeatureMap</td>\n",
       "      <td>0.548</td>\n",
       "      <td>0.538</td>\n",
       "      <td>0.682</td>\n",
       "      <td>pauliFeatureMap</td>\n",
       "      <td>0.548</td>\n",
       "      <td>0.531</td>\n",
       "      <td>0.727</td>\n",
       "      <td>zzPhiFeatureMap</td>\n",
       "      <td>0.643</td>\n",
       "      <td>0.642</td>\n",
       "      <td>0.682</td>\n",
       "      <td>zFeatureMap</td>\n",
       "      <td>0.476</td>\n",
       "      <td>0.461</td>\n",
       "      <td>0.636</td>\n",
       "    </tr>\n",
       "    <tr>\n",
       "      <th>6</th>\n",
       "      <td>20</td>\n",
       "      <td>zzFeatureMap</td>\n",
       "      <td>0.548</td>\n",
       "      <td>0.538</td>\n",
       "      <td>0.636</td>\n",
       "      <td>pauliFeatureMap</td>\n",
       "      <td>0.548</td>\n",
       "      <td>0.531</td>\n",
       "      <td>0.773</td>\n",
       "      <td>zzPhiFeatureMap</td>\n",
       "      <td>0.643</td>\n",
       "      <td>0.642</td>\n",
       "      <td>0.727</td>\n",
       "      <td>zFeatureMap</td>\n",
       "      <td>0.476</td>\n",
       "      <td>0.461</td>\n",
       "      <td>0.591</td>\n",
       "    </tr>\n",
       "    <tr>\n",
       "      <th>7</th>\n",
       "      <td>24</td>\n",
       "      <td>zzFeatureMap</td>\n",
       "      <td>0.548</td>\n",
       "      <td>0.538</td>\n",
       "      <td>0.545</td>\n",
       "      <td>pauliFeatureMap</td>\n",
       "      <td>0.548</td>\n",
       "      <td>0.531</td>\n",
       "      <td>0.818</td>\n",
       "      <td>zzPhiFeatureMap</td>\n",
       "      <td>0.643</td>\n",
       "      <td>0.642</td>\n",
       "      <td>0.636</td>\n",
       "      <td>zFeatureMap</td>\n",
       "      <td>0.476</td>\n",
       "      <td>0.461</td>\n",
       "      <td>0.591</td>\n",
       "    </tr>\n",
       "  </tbody>\n",
       "</table>\n",
       "</div>"
      ]
     },
     "execution_count": 113,
     "metadata": {},
     "output_type": "execute_result"
    }
   ],
   "execution_count": 113
  },
  {
   "metadata": {
    "ExecuteTime": {
     "end_time": "2024-06-25T10:18:01.434357Z",
     "start_time": "2024-06-25T10:18:01.432051Z"
    }
   },
   "cell_type": "code",
   "source": "",
   "id": "c150f0e3521a5551",
   "outputs": [],
   "execution_count": 113
  },
  {
   "metadata": {
    "ExecuteTime": {
     "end_time": "2024-06-25T10:18:01.776841Z",
     "start_time": "2024-06-25T10:18:01.772509Z"
    }
   },
   "cell_type": "code",
   "source": [
    "# take first thirda and forth column of df\n",
    "zz_df = df.iloc[:, [0, 2, 3, 4]]\n",
    "pauli_df = df.iloc[:, [0, 6,7,8]]\n",
    "zzPhi_df = df.iloc[:, [0, 10, 11, 12]]\n",
    "z_df = df.iloc[:, [0, 14, 15, 16]]"
   ],
   "id": "79e652e573fea7ea",
   "outputs": [],
   "execution_count": 114
  },
  {
   "metadata": {
    "ExecuteTime": {
     "end_time": "2024-06-25T10:18:02.212366Z",
     "start_time": "2024-06-25T10:18:02.209958Z"
    }
   },
   "cell_type": "code",
   "source": [
    "pauli_df.rename(columns={\n",
    "    'acc.1': 'acc',\n",
    "    'f1.1': 'f1',\n",
    "    'rec.1': 'rec'\n",
    "}, inplace=True)\n",
    "zzPhi_df.rename(columns={\n",
    "    'acc.2': 'acc',\n",
    "    'f1.2': 'f1',\n",
    "    'rec.2': 'rec'\n",
    "}, inplace=True)\n",
    "z_df.rename(columns={\n",
    "    'acc.3': 'acc',\n",
    "    'f1.3': 'f1',\n",
    "    'rec.3': 'rec'\n",
    "}, inplace=True)"
   ],
   "id": "8daeda4c5c4332ea",
   "outputs": [
    {
     "name": "stderr",
     "output_type": "stream",
     "text": [
      "/var/folders/gm/6zjcwbd164d1v4gmx73009pr0000gp/T/ipykernel_77911/2393646622.py:1: SettingWithCopyWarning: \n",
      "A value is trying to be set on a copy of a slice from a DataFrame\n",
      "\n",
      "See the caveats in the documentation: https://pandas.pydata.org/pandas-docs/stable/user_guide/indexing.html#returning-a-view-versus-a-copy\n",
      "  pauli_df.rename(columns={\n",
      "/var/folders/gm/6zjcwbd164d1v4gmx73009pr0000gp/T/ipykernel_77911/2393646622.py:6: SettingWithCopyWarning: \n",
      "A value is trying to be set on a copy of a slice from a DataFrame\n",
      "\n",
      "See the caveats in the documentation: https://pandas.pydata.org/pandas-docs/stable/user_guide/indexing.html#returning-a-view-versus-a-copy\n",
      "  zzPhi_df.rename(columns={\n",
      "/var/folders/gm/6zjcwbd164d1v4gmx73009pr0000gp/T/ipykernel_77911/2393646622.py:11: SettingWithCopyWarning: \n",
      "A value is trying to be set on a copy of a slice from a DataFrame\n",
      "\n",
      "See the caveats in the documentation: https://pandas.pydata.org/pandas-docs/stable/user_guide/indexing.html#returning-a-view-versus-a-copy\n",
      "  z_df.rename(columns={\n"
     ]
    }
   ],
   "execution_count": 115
  },
  {
   "metadata": {
    "ExecuteTime": {
     "end_time": "2024-06-25T10:18:03.175561Z",
     "start_time": "2024-06-25T10:18:03.169341Z"
    }
   },
   "cell_type": "code",
   "source": "z_df",
   "id": "8d20ea6844484e21",
   "outputs": [
    {
     "data": {
      "text/plain": [
       "   qbits    acc     f1    rec\n",
       "0      2  0.476  0.461  0.682\n",
       "1      4  0.476  0.461  0.636\n",
       "2      8  0.429  0.367  0.727\n",
       "3     10  0.452  0.403  0.727\n",
       "4     12  0.500  0.481  0.682\n",
       "5     16  0.476  0.461  0.636\n",
       "6     20  0.476  0.461  0.591\n",
       "7     24  0.476  0.461  0.591"
      ],
      "text/html": [
       "<div>\n",
       "<style scoped>\n",
       "    .dataframe tbody tr th:only-of-type {\n",
       "        vertical-align: middle;\n",
       "    }\n",
       "\n",
       "    .dataframe tbody tr th {\n",
       "        vertical-align: top;\n",
       "    }\n",
       "\n",
       "    .dataframe thead th {\n",
       "        text-align: right;\n",
       "    }\n",
       "</style>\n",
       "<table border=\"1\" class=\"dataframe\">\n",
       "  <thead>\n",
       "    <tr style=\"text-align: right;\">\n",
       "      <th></th>\n",
       "      <th>qbits</th>\n",
       "      <th>acc</th>\n",
       "      <th>f1</th>\n",
       "      <th>rec</th>\n",
       "    </tr>\n",
       "  </thead>\n",
       "  <tbody>\n",
       "    <tr>\n",
       "      <th>0</th>\n",
       "      <td>2</td>\n",
       "      <td>0.476</td>\n",
       "      <td>0.461</td>\n",
       "      <td>0.682</td>\n",
       "    </tr>\n",
       "    <tr>\n",
       "      <th>1</th>\n",
       "      <td>4</td>\n",
       "      <td>0.476</td>\n",
       "      <td>0.461</td>\n",
       "      <td>0.636</td>\n",
       "    </tr>\n",
       "    <tr>\n",
       "      <th>2</th>\n",
       "      <td>8</td>\n",
       "      <td>0.429</td>\n",
       "      <td>0.367</td>\n",
       "      <td>0.727</td>\n",
       "    </tr>\n",
       "    <tr>\n",
       "      <th>3</th>\n",
       "      <td>10</td>\n",
       "      <td>0.452</td>\n",
       "      <td>0.403</td>\n",
       "      <td>0.727</td>\n",
       "    </tr>\n",
       "    <tr>\n",
       "      <th>4</th>\n",
       "      <td>12</td>\n",
       "      <td>0.500</td>\n",
       "      <td>0.481</td>\n",
       "      <td>0.682</td>\n",
       "    </tr>\n",
       "    <tr>\n",
       "      <th>5</th>\n",
       "      <td>16</td>\n",
       "      <td>0.476</td>\n",
       "      <td>0.461</td>\n",
       "      <td>0.636</td>\n",
       "    </tr>\n",
       "    <tr>\n",
       "      <th>6</th>\n",
       "      <td>20</td>\n",
       "      <td>0.476</td>\n",
       "      <td>0.461</td>\n",
       "      <td>0.591</td>\n",
       "    </tr>\n",
       "    <tr>\n",
       "      <th>7</th>\n",
       "      <td>24</td>\n",
       "      <td>0.476</td>\n",
       "      <td>0.461</td>\n",
       "      <td>0.591</td>\n",
       "    </tr>\n",
       "  </tbody>\n",
       "</table>\n",
       "</div>"
      ]
     },
     "execution_count": 116,
     "metadata": {},
     "output_type": "execute_result"
    }
   ],
   "execution_count": 116
  },
  {
   "metadata": {
    "ExecuteTime": {
     "end_time": "2024-06-25T10:18:03.967826Z",
     "start_time": "2024-06-25T10:18:03.772180Z"
    }
   },
   "cell_type": "code",
   "source": [
    "# plot recall of each model\n",
    "import matplotlib.pyplot as plt\n",
    "import numpy as np\n",
    "\n",
    "fig, ax = plt.subplots()\n",
    "ax.plot(zz_df['qbits'], zz_df['rec'], label='ZZ')\n",
    "ax.plot(pauli_df['qbits'], pauli_df['rec'], label='Pauli')\n",
    "ax.plot(zzPhi_df['qbits'], zzPhi_df['rec'], label='ZZPhi')\n",
    "ax.plot(z_df['qbits'], z_df['rec'], label='Z')\n",
    "ax.set_xlabel('Number of qubits')\n",
    "ax.set_ylabel('Recall')\n",
    "ax.legend()\n",
    "plt.show()"
   ],
   "id": "b3c2f9cccea35b4f",
   "outputs": [
    {
     "data": {
      "text/plain": [
       "<Figure size 640x480 with 1 Axes>"
      ],
      "image/png": "[encoded data removed]"
     },
     "metadata": {},
     "output_type": "display_data"
    }
   ],
   "execution_count": 117
  },
  {
   "metadata": {
    "ExecuteTime": {
     "end_time": "2024-06-25T10:19:03.707254Z",
     "start_time": "2024-06-25T10:19:03.694219Z"
    }
   },
   "cell_type": "code",
   "source": [
    "# for each cell, select the cell from the model with the highest recall\n",
    "max_df = pd.DataFrame()\n",
    "max_df['qbits'] = zz_df['qbits']\n",
    "max_df['rec'] = max(zz_df, pauli_df, zzPhi_df, z_df, key=lambda x: x['rec'] )\n",
    "\n",
    "max_df"
   ],
   "id": "331459a03befa23f",
   "outputs": [
    {
     "ename": "ValueError",
     "evalue": "The truth value of a Series is ambiguous. Use a.empty, a.bool(), a.item(), a.any() or a.all().",
     "output_type": "error",
     "traceback": [
      "\u001B[0;31m---------------------------------------------------------------------------\u001B[0m",
      "\u001B[0;31mValueError\u001B[0m                                Traceback (most recent call last)",
      "\u001B[0;32m/var/folders/gm/6zjcwbd164d1v4gmx73009pr0000gp/T/ipykernel_77911/895638918.py\u001B[0m in \u001B[0;36m?\u001B[0;34m()\u001B[0m\n\u001B[1;32m      1\u001B[0m \u001B[0;31m# for each cell, select the cell from the model with the highest recall\u001B[0m\u001B[0;34m\u001B[0m\u001B[0;34m\u001B[0m\u001B[0m\n\u001B[1;32m      2\u001B[0m \u001B[0mmax_df\u001B[0m \u001B[0;34m=\u001B[0m \u001B[0mpd\u001B[0m\u001B[0;34m.\u001B[0m\u001B[0mDataFrame\u001B[0m\u001B[0;34m(\u001B[0m\u001B[0;34m)\u001B[0m\u001B[0;34m\u001B[0m\u001B[0;34m\u001B[0m\u001B[0m\n\u001B[1;32m      3\u001B[0m \u001B[0mmax_df\u001B[0m\u001B[0;34m[\u001B[0m\u001B[0;34m'qbits'\u001B[0m\u001B[0;34m]\u001B[0m \u001B[0;34m=\u001B[0m \u001B[0mzz_df\u001B[0m\u001B[0;34m[\u001B[0m\u001B[0;34m'qbits'\u001B[0m\u001B[0;34m]\u001B[0m\u001B[0;34m\u001B[0m\u001B[0;34m\u001B[0m\u001B[0m\n\u001B[0;32m----> 4\u001B[0;31m \u001B[0mmax_df\u001B[0m\u001B[0;34m[\u001B[0m\u001B[0;34m'rec'\u001B[0m\u001B[0;34m]\u001B[0m \u001B[0;34m=\u001B[0m \u001B[0mmax\u001B[0m\u001B[0;34m(\u001B[0m\u001B[0mzz_df\u001B[0m\u001B[0;34m,\u001B[0m \u001B[0mpauli_df\u001B[0m\u001B[0;34m,\u001B[0m \u001B[0mzzPhi_df\u001B[0m\u001B[0;34m,\u001B[0m \u001B[0mz_df\u001B[0m\u001B[0;34m,\u001B[0m \u001B[0mkey\u001B[0m\u001B[0;34m=\u001B[0m\u001B[0;32mlambda\u001B[0m \u001B[0mx\u001B[0m\u001B[0;34m:\u001B[0m \u001B[0mx\u001B[0m\u001B[0;34m[\u001B[0m\u001B[0;34m'rec'\u001B[0m\u001B[0;34m]\u001B[0m \u001B[0;34m)\u001B[0m\u001B[0;34m\u001B[0m\u001B[0;34m\u001B[0m\u001B[0m\n\u001B[0m\u001B[1;32m      5\u001B[0m \u001B[0;34m\u001B[0m\u001B[0m\n\u001B[1;32m      6\u001B[0m \u001B[0mmax_df\u001B[0m\u001B[0;34m\u001B[0m\u001B[0;34m\u001B[0m\u001B[0m\n",
      "\u001B[0;32m~/Documents/quantum_stuff_2024/.venv/lib/python3.12/site-packages/pandas/core/generic.py\u001B[0m in \u001B[0;36m?\u001B[0;34m(self)\u001B[0m\n\u001B[1;32m   1575\u001B[0m     \u001B[0;34m@\u001B[0m\u001B[0mfinal\u001B[0m\u001B[0;34m\u001B[0m\u001B[0;34m\u001B[0m\u001B[0m\n\u001B[1;32m   1576\u001B[0m     \u001B[0;32mdef\u001B[0m \u001B[0m__nonzero__\u001B[0m\u001B[0;34m(\u001B[0m\u001B[0mself\u001B[0m\u001B[0;34m)\u001B[0m \u001B[0;34m->\u001B[0m \u001B[0mNoReturn\u001B[0m\u001B[0;34m:\u001B[0m\u001B[0;34m\u001B[0m\u001B[0;34m\u001B[0m\u001B[0m\n\u001B[0;32m-> 1577\u001B[0;31m         raise ValueError(\n\u001B[0m\u001B[1;32m   1578\u001B[0m             \u001B[0;34mf\"\u001B[0m\u001B[0;34mThe truth value of a \u001B[0m\u001B[0;34m{\u001B[0m\u001B[0mtype\u001B[0m\u001B[0;34m(\u001B[0m\u001B[0mself\u001B[0m\u001B[0;34m)\u001B[0m\u001B[0;34m.\u001B[0m\u001B[0m__name__\u001B[0m\u001B[0;34m}\u001B[0m\u001B[0;34m is ambiguous. \u001B[0m\u001B[0;34m\"\u001B[0m\u001B[0;34m\u001B[0m\u001B[0;34m\u001B[0m\u001B[0m\n\u001B[1;32m   1579\u001B[0m             \u001B[0;34m\"Use a.empty, a.bool(), a.item(), a.any() or a.all().\"\u001B[0m\u001B[0;34m\u001B[0m\u001B[0;34m\u001B[0m\u001B[0m\n\u001B[1;32m   1580\u001B[0m         \u001B[0;34m)\u001B[0m\u001B[0;34m\u001B[0m\u001B[0;34m\u001B[0m\u001B[0m\n",
      "\u001B[0;31mValueError\u001B[0m: The truth value of a Series is ambiguous. Use a.empty, a.bool(), a.item(), a.any() or a.all()."
     ]
    }
   ],
   "execution_count": 118
  },
  {
   "metadata": {
    "ExecuteTime": {
     "end_time": "2024-06-25T10:19:03.958645Z",
     "start_time": "2024-06-25T10:19:03.956198Z"
    }
   },
   "cell_type": "code",
   "source": [
    "df_max = pd.DataFrame()\n",
    "df_max['qbit'] = df['qbits']"
   ],
   "id": "bf9e4f5669ee254b",
   "outputs": [],
   "execution_count": 119
  },
  {
   "metadata": {
    "ExecuteTime": {
     "end_time": "2024-06-25T10:19:04.224118Z",
     "start_time": "2024-06-25T10:19:04.216798Z"
    }
   },
   "cell_type": "code",
   "source": [
    "df_max['acc'] = df[['acc', 'acc.1', 'acc.2', 'acc.3']].max(axis=1)\n",
    "df_max['f1'] = df[['f1', 'f1.1', 'f1.2', 'f1.3']].max(axis=1)\n",
    "df_max['rec'] = df[['rec', 'rec.1', 'rec.2', 'rec.3']].max(axis=1)"
   ],
   "id": "6f4fa2c615235349",
   "outputs": [],
   "execution_count": 120
  },
  {
   "metadata": {
    "ExecuteTime": {
     "end_time": "2024-06-25T10:19:04.533617Z",
     "start_time": "2024-06-25T10:19:04.526586Z"
    }
   },
   "cell_type": "code",
   "source": "df_max",
   "id": "52a7ac2a71ec14c2",
   "outputs": [
    {
     "data": {
      "text/plain": [
       "   qbit    acc     f1    rec\n",
       "0     2  0.571  0.565  0.727\n",
       "1     4  0.571  0.565  0.682\n",
       "2     8  0.571  0.569  0.727\n",
       "3    10  0.667  0.667  0.727\n",
       "4    12  0.571  0.559  0.773\n",
       "5    16  0.643  0.642  0.727\n",
       "6    20  0.643  0.642  0.773\n",
       "7    24  0.643  0.642  0.818"
      ],
      "text/html": [
       "<div>\n",
       "<style scoped>\n",
       "    .dataframe tbody tr th:only-of-type {\n",
       "        vertical-align: middle;\n",
       "    }\n",
       "\n",
       "    .dataframe tbody tr th {\n",
       "        vertical-align: top;\n",
       "    }\n",
       "\n",
       "    .dataframe thead th {\n",
       "        text-align: right;\n",
       "    }\n",
       "</style>\n",
       "<table border=\"1\" class=\"dataframe\">\n",
       "  <thead>\n",
       "    <tr style=\"text-align: right;\">\n",
       "      <th></th>\n",
       "      <th>qbit</th>\n",
       "      <th>acc</th>\n",
       "      <th>f1</th>\n",
       "      <th>rec</th>\n",
       "    </tr>\n",
       "  </thead>\n",
       "  <tbody>\n",
       "    <tr>\n",
       "      <th>0</th>\n",
       "      <td>2</td>\n",
       "      <td>0.571</td>\n",
       "      <td>0.565</td>\n",
       "      <td>0.727</td>\n",
       "    </tr>\n",
       "    <tr>\n",
       "      <th>1</th>\n",
       "      <td>4</td>\n",
       "      <td>0.571</td>\n",
       "      <td>0.565</td>\n",
       "      <td>0.682</td>\n",
       "    </tr>\n",
       "    <tr>\n",
       "      <th>2</th>\n",
       "      <td>8</td>\n",
       "      <td>0.571</td>\n",
       "      <td>0.569</td>\n",
       "      <td>0.727</td>\n",
       "    </tr>\n",
       "    <tr>\n",
       "      <th>3</th>\n",
       "      <td>10</td>\n",
       "      <td>0.667</td>\n",
       "      <td>0.667</td>\n",
       "      <td>0.727</td>\n",
       "    </tr>\n",
       "    <tr>\n",
       "      <th>4</th>\n",
       "      <td>12</td>\n",
       "      <td>0.571</td>\n",
       "      <td>0.559</td>\n",
       "      <td>0.773</td>\n",
       "    </tr>\n",
       "    <tr>\n",
       "      <th>5</th>\n",
       "      <td>16</td>\n",
       "      <td>0.643</td>\n",
       "      <td>0.642</td>\n",
       "      <td>0.727</td>\n",
       "    </tr>\n",
       "    <tr>\n",
       "      <th>6</th>\n",
       "      <td>20</td>\n",
       "      <td>0.643</td>\n",
       "      <td>0.642</td>\n",
       "      <td>0.773</td>\n",
       "    </tr>\n",
       "    <tr>\n",
       "      <th>7</th>\n",
       "      <td>24</td>\n",
       "      <td>0.643</td>\n",
       "      <td>0.642</td>\n",
       "      <td>0.818</td>\n",
       "    </tr>\n",
       "  </tbody>\n",
       "</table>\n",
       "</div>"
      ]
     },
     "execution_count": 121,
     "metadata": {},
     "output_type": "execute_result"
    }
   ],
   "execution_count": 121
  },
  {
   "metadata": {
    "ExecuteTime": {
     "end_time": "2024-06-25T10:19:05.005654Z",
     "start_time": "2024-06-25T10:19:04.958967Z"
    }
   },
   "cell_type": "code",
   "source": [
    "fig, ax = plt.subplots()\n",
    "ax.plot(df_max['qbit'], df_max['rec'])\n"
   ],
   "id": "229e824d9489ffc7",
   "outputs": [
    {
     "data": {
      "text/plain": [
       "[<matplotlib.lines.Line2D at 0x16bd59dc0>]"
      ]
     },
     "execution_count": 122,
     "metadata": {},
     "output_type": "execute_result"
    },
    {
     "data": {
      "text/plain": [
       "<Figure size 640x480 with 1 Axes>"
      ],
      "image/png": "[encoded data removed]"
     },
     "metadata": {},
     "output_type": "display_data"
    }
   ],
   "execution_count": 122
  },
  {
   "metadata": {
    "ExecuteTime": {
     "end_time": "2024-06-25T10:19:22.379054Z",
     "start_time": "2024-06-25T10:19:22.376611Z"
    }
   },
   "cell_type": "code",
   "source": [
    "with open('results.json', 'r') as f:\n",
    "    clasic_res = json.load(f)"
   ],
   "id": "ed587e26209593c5",
   "outputs": [],
   "execution_count": 126
  },
  {
   "metadata": {
    "ExecuteTime": {
     "end_time": "2024-06-25T10:19:22.514252Z",
     "start_time": "2024-06-25T10:19:22.511117Z"
    }
   },
   "cell_type": "code",
   "source": "clasic_res",
   "id": "c9a91b3c3af2e6c1",
   "outputs": [
    {
     "data": {
      "text/plain": [
       "{'2': {'best_params': \"{'C': 1000, 'gamma': 1, 'kernel': 'rbf'}\",\n",
       "  'recall': 0.6538461538461539,\n",
       "  'accuracy': 0.6666666666666666,\n",
       "  'best_score': 0.6078431372549019,\n",
       "  'f1': 0.7083333333333334},\n",
       " '4': {'best_params': \"{'C': 1, 'gamma': 1, 'kernel': 'rbf'}\",\n",
       "  'recall': 0.6538461538461539,\n",
       "  'accuracy': 0.7142857142857143,\n",
       "  'best_score': 0.770944741532977,\n",
       "  'f1': 0.7391304347826086},\n",
       " '6': {'best_params': \"{'C': 1000, 'gamma': 0.01, 'kernel': 'rbf'}\",\n",
       "  'recall': 0.8461538461538461,\n",
       "  'accuracy': 0.9047619047619048,\n",
       "  'best_score': 0.8133689839572193,\n",
       "  'f1': 0.9166666666666666},\n",
       " '8': {'best_params': \"{'C': 1000, 'gamma': 0.01, 'kernel': 'rbf'}\",\n",
       "  'recall': 0.8846153846153846,\n",
       "  'accuracy': 0.9047619047619048,\n",
       "  'best_score': 0.8377896613190732,\n",
       "  'f1': 0.92},\n",
       " '10': {'best_params': \"{'C': 100, 'gamma': 0.1, 'kernel': 'rbf'}\",\n",
       "  'recall': 0.8461538461538461,\n",
       "  'accuracy': 0.8571428571428571,\n",
       "  'best_score': 0.861319073083779,\n",
       "  'f1': 0.88},\n",
       " '12': {'best_params': \"{'C': 10, 'gamma': 0.1, 'kernel': 'rbf'}\",\n",
       "  'recall': 0.8461538461538461,\n",
       "  'accuracy': 0.8571428571428571,\n",
       "  'best_score': 0.8614973262032086,\n",
       "  'f1': 0.88},\n",
       " '14': {'best_params': \"{'C': 10, 'gamma': 0.1, 'kernel': 'rbf'}\",\n",
       "  'recall': 0.7692307692307693,\n",
       "  'accuracy': 0.8333333333333334,\n",
       "  'best_score': 0.8673796791443851,\n",
       "  'f1': 0.851063829787234},\n",
       " '16': {'best_params': \"{'C': 100, 'gamma': 0.01, 'kernel': 'rbf'}\",\n",
       "  'recall': 0.6923076923076923,\n",
       "  'accuracy': 0.7857142857142857,\n",
       "  'best_score': 0.8614973262032086,\n",
       "  'f1': 0.8},\n",
       " '20': {'best_params': \"{'C': 1, 'gamma': 0.1, 'kernel': 'rbf'}\",\n",
       "  'recall': 0.5769230769230769,\n",
       "  'accuracy': 0.7380952380952381,\n",
       "  'best_score': 0.8550802139037433,\n",
       "  'f1': 0.7317073170731707},\n",
       " '24': {'best_params': \"{'C': 10, 'gamma': 0.1, 'kernel': 'rbf'}\",\n",
       "  'recall': 0.6153846153846154,\n",
       "  'accuracy': 0.7380952380952381,\n",
       "  'best_score': 0.8313725490196079,\n",
       "  'f1': 0.7441860465116279}}"
      ]
     },
     "execution_count": 127,
     "metadata": {},
     "output_type": "execute_result"
    }
   ],
   "execution_count": 127
  },
  {
   "metadata": {
    "ExecuteTime": {
     "end_time": "2024-06-25T10:22:56.487324Z",
     "start_time": "2024-06-25T10:22:56.289001Z"
    }
   },
   "cell_type": "code",
   "source": [
    "fig, ax = plt.subplots()\n",
    "ax.plot(df_max['qbit'], df_max['rec'], label='Quantum SVM')\n",
    "\n",
    "ax.plot([int(x) for x in clasic_res.keys()], [clasic_res[k]['recall'] for k in clasic_res.keys()], label='Classical SVM')\n",
    "\n",
    "# set y axis to 0 to 1 range\n",
    "# ax.set_ylim([0, 1])\n",
    "\n",
    "# set x ticts to integers\n",
    "ax.set_xticks(range(2, 25, 2))\n",
    "\n",
    "ax.set_xlabel('Number of dimensions (qubits)')\n",
    "ax.set_ylabel('Recall')\n",
    "ax.legend()\n",
    "\n",
    "\n",
    "plot_file_format = \"png\"\n",
    "plot_file_dpi = 300\n",
    "plot_file_bbox_inches = 'tight'\n",
    "plt.savefig(f\"final_line_chart.{plot_file_format}\", format=plot_file_format, bbox_inches=plot_file_bbox_inches, dpi=plot_file_dpi)\n",
    "plt.show()"
   ],
   "id": "5426f2fae3fc6dfa",
   "outputs": [
    {
     "data": {
      "text/plain": [
       "<Figure size 640x480 with 1 Axes>"
      ],
      "image/png": "[encoded data removed]"
     },
     "metadata": {},
     "output_type": "display_data"
    }
   ],
   "execution_count": 131
  },
  {
   "metadata": {
    "ExecuteTime": {
     "end_time": "2024-06-25T10:01:17.217297Z",
     "start_time": "2024-06-25T10:01:17.155721Z"
    }
   },
   "cell_type": "code",
   "source": [
    "# create a bar chart with the same data. Put bars side by side\n",
    "# fig, ax = plt.subplots()\n",
    "ind = 2\n",
    "width = 0.5\n",
    "ax = plt\n",
    "# ax.bar(df_max['qbit'], df_max['rec'], width, label='Quantum stuff')\n",
    "ax.bar(df_max['qbit'], df_max['rec'], width, label='Quantum stuff')\n",
    "ax.bar([int(x) + width for x in clasic_res.keys()], [clasic_res[k]['recall'] for k in clasic_res.keys()], width, label='Classical stuff')\n",
    "# ax.set_xlabel('Number of dimensions (qubits)')\n",
    "# ax.set_ylabel('Recall')\n",
    "\n",
    "plt.xticks(ind + width / 2, ('Xtick1', 'Xtick3'))\n",
    "\n",
    "ax.legend()\n",
    "    \n"
   ],
   "id": "4b93c90c4f24fd7a",
   "outputs": [
    {
     "ename": "ValueError",
     "evalue": "'locs' must be 1D with shape (N,), but your input has shape ()",
     "output_type": "error",
     "traceback": [
      "\u001B[0;31m---------------------------------------------------------------------------\u001B[0m",
      "\u001B[0;31mValueError\u001B[0m                                Traceback (most recent call last)",
      "Cell \u001B[0;32mIn[104], line 12\u001B[0m\n\u001B[1;32m      8\u001B[0m ax\u001B[38;5;241m.\u001B[39mbar([\u001B[38;5;28mint\u001B[39m(x) \u001B[38;5;241m+\u001B[39m width \u001B[38;5;28;01mfor\u001B[39;00m x \u001B[38;5;129;01min\u001B[39;00m clasic_res\u001B[38;5;241m.\u001B[39mkeys()], [clasic_res[k][\u001B[38;5;124m'\u001B[39m\u001B[38;5;124mrecall\u001B[39m\u001B[38;5;124m'\u001B[39m] \u001B[38;5;28;01mfor\u001B[39;00m k \u001B[38;5;129;01min\u001B[39;00m clasic_res\u001B[38;5;241m.\u001B[39mkeys()], width, label\u001B[38;5;241m=\u001B[39m\u001B[38;5;124m'\u001B[39m\u001B[38;5;124mClassical stuff\u001B[39m\u001B[38;5;124m'\u001B[39m)\n\u001B[1;32m      9\u001B[0m \u001B[38;5;66;03m# ax.set_xlabel('Number of dimensions (qubits)')\u001B[39;00m\n\u001B[1;32m     10\u001B[0m \u001B[38;5;66;03m# ax.set_ylabel('Recall')\u001B[39;00m\n\u001B[0;32m---> 12\u001B[0m \u001B[43mplt\u001B[49m\u001B[38;5;241;43m.\u001B[39;49m\u001B[43mxticks\u001B[49m\u001B[43m(\u001B[49m\u001B[43mind\u001B[49m\u001B[43m \u001B[49m\u001B[38;5;241;43m+\u001B[39;49m\u001B[43m \u001B[49m\u001B[43mwidth\u001B[49m\u001B[43m \u001B[49m\u001B[38;5;241;43m/\u001B[39;49m\u001B[43m \u001B[49m\u001B[38;5;241;43m2\u001B[39;49m\u001B[43m,\u001B[49m\u001B[43m \u001B[49m\u001B[43m(\u001B[49m\u001B[38;5;124;43m'\u001B[39;49m\u001B[38;5;124;43mXtick1\u001B[39;49m\u001B[38;5;124;43m'\u001B[39;49m\u001B[43m,\u001B[49m\u001B[43m \u001B[49m\u001B[38;5;124;43m'\u001B[39;49m\u001B[38;5;124;43mXtick3\u001B[39;49m\u001B[38;5;124;43m'\u001B[39;49m\u001B[43m)\u001B[49m\u001B[43m)\u001B[49m\n\u001B[1;32m     14\u001B[0m ax\u001B[38;5;241m.\u001B[39mlegend()\n",
      "File \u001B[0;32m~/Documents/quantum_stuff_2024/.venv/lib/python3.12/site-packages/matplotlib/pyplot.py:2149\u001B[0m, in \u001B[0;36mxticks\u001B[0;34m(ticks, labels, minor, **kwargs)\u001B[0m\n\u001B[1;32m   2146\u001B[0m         \u001B[38;5;28;01mraise\u001B[39;00m \u001B[38;5;167;01mTypeError\u001B[39;00m(\u001B[38;5;124m\"\u001B[39m\u001B[38;5;124mxticks(): Parameter \u001B[39m\u001B[38;5;124m'\u001B[39m\u001B[38;5;124mlabels\u001B[39m\u001B[38;5;124m'\u001B[39m\u001B[38;5;124m can\u001B[39m\u001B[38;5;124m'\u001B[39m\u001B[38;5;124mt be set \u001B[39m\u001B[38;5;124m\"\u001B[39m\n\u001B[1;32m   2147\u001B[0m                         \u001B[38;5;124m\"\u001B[39m\u001B[38;5;124mwithout setting \u001B[39m\u001B[38;5;124m'\u001B[39m\u001B[38;5;124mticks\u001B[39m\u001B[38;5;124m'\u001B[39m\u001B[38;5;124m\"\u001B[39m)\n\u001B[1;32m   2148\u001B[0m \u001B[38;5;28;01melse\u001B[39;00m:\n\u001B[0;32m-> 2149\u001B[0m     locs \u001B[38;5;241m=\u001B[39m \u001B[43max\u001B[49m\u001B[38;5;241;43m.\u001B[39;49m\u001B[43mset_xticks\u001B[49m\u001B[43m(\u001B[49m\u001B[43mticks\u001B[49m\u001B[43m,\u001B[49m\u001B[43m \u001B[49m\u001B[43mminor\u001B[49m\u001B[38;5;241;43m=\u001B[39;49m\u001B[43mminor\u001B[49m\u001B[43m)\u001B[49m\n\u001B[1;32m   2151\u001B[0m labels_out: \u001B[38;5;28mlist\u001B[39m[Text] \u001B[38;5;241m=\u001B[39m []\n\u001B[1;32m   2152\u001B[0m \u001B[38;5;28;01mif\u001B[39;00m labels \u001B[38;5;129;01mis\u001B[39;00m \u001B[38;5;28;01mNone\u001B[39;00m:\n",
      "File \u001B[0;32m~/Documents/quantum_stuff_2024/.venv/lib/python3.12/site-packages/matplotlib/axes/_base.py:74\u001B[0m, in \u001B[0;36m_axis_method_wrapper.__set_name__.<locals>.wrapper\u001B[0;34m(self, *args, **kwargs)\u001B[0m\n\u001B[1;32m     73\u001B[0m \u001B[38;5;28;01mdef\u001B[39;00m \u001B[38;5;21mwrapper\u001B[39m(\u001B[38;5;28mself\u001B[39m, \u001B[38;5;241m*\u001B[39margs, \u001B[38;5;241m*\u001B[39m\u001B[38;5;241m*\u001B[39mkwargs):\n\u001B[0;32m---> 74\u001B[0m     \u001B[38;5;28;01mreturn\u001B[39;00m \u001B[43mget_method\u001B[49m\u001B[43m(\u001B[49m\u001B[38;5;28;43mself\u001B[39;49m\u001B[43m)\u001B[49m\u001B[43m(\u001B[49m\u001B[38;5;241;43m*\u001B[39;49m\u001B[43margs\u001B[49m\u001B[43m,\u001B[49m\u001B[43m \u001B[49m\u001B[38;5;241;43m*\u001B[39;49m\u001B[38;5;241;43m*\u001B[39;49m\u001B[43mkwargs\u001B[49m\u001B[43m)\u001B[49m\n",
      "File \u001B[0;32m~/Documents/quantum_stuff_2024/.venv/lib/python3.12/site-packages/matplotlib/axis.py:2172\u001B[0m, in \u001B[0;36mAxis.set_ticks\u001B[0;34m(self, ticks, labels, minor, **kwargs)\u001B[0m\n\u001B[1;32m   2167\u001B[0m     first_key \u001B[38;5;241m=\u001B[39m \u001B[38;5;28mnext\u001B[39m(\u001B[38;5;28miter\u001B[39m(kwargs))\n\u001B[1;32m   2168\u001B[0m     \u001B[38;5;28;01mraise\u001B[39;00m \u001B[38;5;167;01mValueError\u001B[39;00m(\n\u001B[1;32m   2169\u001B[0m         \u001B[38;5;124mf\u001B[39m\u001B[38;5;124m\"\u001B[39m\u001B[38;5;124mIncorrect use of keyword argument \u001B[39m\u001B[38;5;132;01m{\u001B[39;00mfirst_key\u001B[38;5;132;01m!r}\u001B[39;00m\u001B[38;5;124m. Keyword arguments \u001B[39m\u001B[38;5;124m\"\u001B[39m\n\u001B[1;32m   2170\u001B[0m         \u001B[38;5;124m\"\u001B[39m\u001B[38;5;124mother than \u001B[39m\u001B[38;5;124m'\u001B[39m\u001B[38;5;124mminor\u001B[39m\u001B[38;5;124m'\u001B[39m\u001B[38;5;124m modify the text labels and can only be used if \u001B[39m\u001B[38;5;124m\"\u001B[39m\n\u001B[1;32m   2171\u001B[0m         \u001B[38;5;124m\"\u001B[39m\u001B[38;5;124m'\u001B[39m\u001B[38;5;124mlabels\u001B[39m\u001B[38;5;124m'\u001B[39m\u001B[38;5;124m are passed as well.\u001B[39m\u001B[38;5;124m\"\u001B[39m)\n\u001B[0;32m-> 2172\u001B[0m result \u001B[38;5;241m=\u001B[39m \u001B[38;5;28;43mself\u001B[39;49m\u001B[38;5;241;43m.\u001B[39;49m\u001B[43m_set_tick_locations\u001B[49m\u001B[43m(\u001B[49m\u001B[43mticks\u001B[49m\u001B[43m,\u001B[49m\u001B[43m \u001B[49m\u001B[43mminor\u001B[49m\u001B[38;5;241;43m=\u001B[39;49m\u001B[43mminor\u001B[49m\u001B[43m)\u001B[49m\n\u001B[1;32m   2173\u001B[0m \u001B[38;5;28;01mif\u001B[39;00m labels \u001B[38;5;129;01mis\u001B[39;00m \u001B[38;5;129;01mnot\u001B[39;00m \u001B[38;5;28;01mNone\u001B[39;00m:\n\u001B[1;32m   2174\u001B[0m     \u001B[38;5;28mself\u001B[39m\u001B[38;5;241m.\u001B[39mset_ticklabels(labels, minor\u001B[38;5;241m=\u001B[39mminor, \u001B[38;5;241m*\u001B[39m\u001B[38;5;241m*\u001B[39mkwargs)\n",
      "File \u001B[0;32m~/Documents/quantum_stuff_2024/.venv/lib/python3.12/site-packages/matplotlib/axis.py:2113\u001B[0m, in \u001B[0;36mAxis._set_tick_locations\u001B[0;34m(self, ticks, minor)\u001B[0m\n\u001B[1;32m   2108\u001B[0m \u001B[38;5;28;01mdef\u001B[39;00m \u001B[38;5;21m_set_tick_locations\u001B[39m(\u001B[38;5;28mself\u001B[39m, ticks, \u001B[38;5;241m*\u001B[39m, minor\u001B[38;5;241m=\u001B[39m\u001B[38;5;28;01mFalse\u001B[39;00m):\n\u001B[1;32m   2109\u001B[0m     \u001B[38;5;66;03m# see docstring of set_ticks\u001B[39;00m\n\u001B[1;32m   2110\u001B[0m \n\u001B[1;32m   2111\u001B[0m     \u001B[38;5;66;03m# XXX if the user changes units, the information will be lost here\u001B[39;00m\n\u001B[1;32m   2112\u001B[0m     ticks \u001B[38;5;241m=\u001B[39m \u001B[38;5;28mself\u001B[39m\u001B[38;5;241m.\u001B[39mconvert_units(ticks)\n\u001B[0;32m-> 2113\u001B[0m     locator \u001B[38;5;241m=\u001B[39m \u001B[43mmticker\u001B[49m\u001B[38;5;241;43m.\u001B[39;49m\u001B[43mFixedLocator\u001B[49m\u001B[43m(\u001B[49m\u001B[43mticks\u001B[49m\u001B[43m)\u001B[49m  \u001B[38;5;66;03m# validate ticks early.\u001B[39;00m\n\u001B[1;32m   2114\u001B[0m     \u001B[38;5;28;01mif\u001B[39;00m \u001B[38;5;28mlen\u001B[39m(ticks):\n\u001B[1;32m   2115\u001B[0m         \u001B[38;5;28;01mfor\u001B[39;00m axis \u001B[38;5;129;01min\u001B[39;00m \u001B[38;5;28mself\u001B[39m\u001B[38;5;241m.\u001B[39m_get_shared_axis():\n\u001B[1;32m   2116\u001B[0m             \u001B[38;5;66;03m# set_view_interval maintains any preexisting inversion.\u001B[39;00m\n",
      "File \u001B[0;32m~/Documents/quantum_stuff_2024/.venv/lib/python3.12/site-packages/matplotlib/ticker.py:1722\u001B[0m, in \u001B[0;36mFixedLocator.__init__\u001B[0;34m(self, locs, nbins)\u001B[0m\n\u001B[1;32m   1720\u001B[0m \u001B[38;5;28;01mdef\u001B[39;00m \u001B[38;5;21m__init__\u001B[39m(\u001B[38;5;28mself\u001B[39m, locs, nbins\u001B[38;5;241m=\u001B[39m\u001B[38;5;28;01mNone\u001B[39;00m):\n\u001B[1;32m   1721\u001B[0m     \u001B[38;5;28mself\u001B[39m\u001B[38;5;241m.\u001B[39mlocs \u001B[38;5;241m=\u001B[39m np\u001B[38;5;241m.\u001B[39masarray(locs)\n\u001B[0;32m-> 1722\u001B[0m     \u001B[43m_api\u001B[49m\u001B[38;5;241;43m.\u001B[39;49m\u001B[43mcheck_shape\u001B[49m\u001B[43m(\u001B[49m\u001B[43m(\u001B[49m\u001B[38;5;28;43;01mNone\u001B[39;49;00m\u001B[43m,\u001B[49m\u001B[43m)\u001B[49m\u001B[43m,\u001B[49m\u001B[43m \u001B[49m\u001B[43mlocs\u001B[49m\u001B[38;5;241;43m=\u001B[39;49m\u001B[38;5;28;43mself\u001B[39;49m\u001B[38;5;241;43m.\u001B[39;49m\u001B[43mlocs\u001B[49m\u001B[43m)\u001B[49m\n\u001B[1;32m   1723\u001B[0m     \u001B[38;5;28mself\u001B[39m\u001B[38;5;241m.\u001B[39mnbins \u001B[38;5;241m=\u001B[39m \u001B[38;5;28mmax\u001B[39m(nbins, \u001B[38;5;241m2\u001B[39m) \u001B[38;5;28;01mif\u001B[39;00m nbins \u001B[38;5;129;01mis\u001B[39;00m \u001B[38;5;129;01mnot\u001B[39;00m \u001B[38;5;28;01mNone\u001B[39;00m \u001B[38;5;28;01melse\u001B[39;00m \u001B[38;5;28;01mNone\u001B[39;00m\n",
      "File \u001B[0;32m~/Documents/quantum_stuff_2024/.venv/lib/python3.12/site-packages/matplotlib/_api/__init__.py:161\u001B[0m, in \u001B[0;36mcheck_shape\u001B[0;34m(shape, **kwargs)\u001B[0m\n\u001B[1;32m    158\u001B[0m \u001B[38;5;28;01mif\u001B[39;00m \u001B[38;5;28mlen\u001B[39m(shape) \u001B[38;5;241m==\u001B[39m \u001B[38;5;241m1\u001B[39m:\n\u001B[1;32m    159\u001B[0m     text_shape \u001B[38;5;241m+\u001B[39m\u001B[38;5;241m=\u001B[39m \u001B[38;5;124m\"\u001B[39m\u001B[38;5;124m,\u001B[39m\u001B[38;5;124m\"\u001B[39m\n\u001B[0;32m--> 161\u001B[0m \u001B[38;5;28;01mraise\u001B[39;00m \u001B[38;5;167;01mValueError\u001B[39;00m(\n\u001B[1;32m    162\u001B[0m     \u001B[38;5;124mf\u001B[39m\u001B[38;5;124m\"\u001B[39m\u001B[38;5;132;01m{\u001B[39;00mk\u001B[38;5;132;01m!r}\u001B[39;00m\u001B[38;5;124m must be \u001B[39m\u001B[38;5;132;01m{\u001B[39;00m\u001B[38;5;28mlen\u001B[39m(shape)\u001B[38;5;132;01m}\u001B[39;00m\u001B[38;5;124mD with shape (\u001B[39m\u001B[38;5;132;01m{\u001B[39;00mtext_shape\u001B[38;5;132;01m}\u001B[39;00m\u001B[38;5;124m), \u001B[39m\u001B[38;5;124m\"\u001B[39m\n\u001B[1;32m    163\u001B[0m     \u001B[38;5;124mf\u001B[39m\u001B[38;5;124m\"\u001B[39m\u001B[38;5;124mbut your input has shape \u001B[39m\u001B[38;5;132;01m{\u001B[39;00mv\u001B[38;5;241m.\u001B[39mshape\u001B[38;5;132;01m}\u001B[39;00m\u001B[38;5;124m\"\u001B[39m\n\u001B[1;32m    164\u001B[0m )\n",
      "\u001B[0;31mValueError\u001B[0m: 'locs' must be 1D with shape (N,), but your input has shape ()"
     ]
    },
    {
     "data": {
      "text/plain": [
       "<Figure size 640x480 with 1 Axes>"
      ],
      "image/png": "[encoded data removed]"
     },
     "metadata": {},
     "output_type": "display_data"
    }
   ],
   "execution_count": 104
  },
  {
   "metadata": {},
   "cell_type": "code",
   "outputs": [],
   "execution_count": null,
   "source": "",
   "id": "dd7b1b84222492cd"
  }
 ],
 "metadata": {
  "kernelspec": {
   "display_name": "Python 3",
   "language": "python",
   "name": "python3"
  },
  "language_info": {
   "codemirror_mode": {
    "name": "ipython",
    "version": 2
   },
   "file_extension": ".py",
   "mimetype": "text/x-python",
   "name": "python",
   "nbconvert_exporter": "python",
   "pygments_lexer": "ipython2",
   "version": "2.7.6"
  }
 },
 "nbformat": 4,
 "nbformat_minor": 5
}
