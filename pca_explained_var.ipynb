{
 "cells": [
  {
   "cell_type": "code",
   "execution_count": 1,
   "id": "initial_id",
   "metadata": {

   },
   "outputs": [],
   "source": [
    "import pandas as pd\n",
    "import numpy as np\n",
    "import matplotlib.pyplot as plt\n",
    "from sklearn.decomposition import PCA\n",
    "import qsonar.load\n",
    "\n",
    "from typing import List, Tuple"

   "source": [
    "def print_cumpca(data: pd.DataFrame) -> None:\n",
    "    # Prints the cumulative explained variance of PCA\n",
    "    pca = PCA()\n",
    "    pca.fit(data)\n",
    "    cumulative_variance = np.cumsum(pca.explained_variance_ratio_)\n",
    "    for i, cv in enumerate(cumulative_variance):\n",
    "        print(f\"{i+1}th component: {cv:.4f}\")\n",
    "\n",
    "def plot_pca(data: pd.DataFrame, vlines: List[Tuple[int, str, str]]  = None, add_hline=False) -> None: \n",
    "    \"\"\"\n",
    "    Plot the PCA explained variance and cumulative explained variance\n",
    "    :param data: data to be used for PCA\n",
    "    :param vlines: (xth component, color, label) vertical lines to be plotted at xth component\n",
    "    :return: \n",
    "    \"\"\"\n",
    "    pca = PCA()\n",
    "    pca.fit(data)\n",
    "    plt.figure(figsize=(10, 6))\n",
    "    cumulative_variance = np.cumsum(pca.explained_variance_ratio_) * 100\n",
    "    \n",
    "    plt.plot(\n",
    "        range(1,len(pca.explained_variance_)+1), \n",
    "        cumulative_variance, \n",
    "        'r-', \n",
    "        label=\"Cumulative variance\"\n",
    "    )\n",
    "    \n",
    "    plt.bar(\n",
    "        range(1,len(pca.explained_variance_)+1),\n",
    "        pca.explained_variance_ratio_ * 100,\n",
    "        label=\"Variance of PC\"\n",
    "    )\n",
    "    \n",
    "    if vlines is not None:\n",
    "        for hline in vlines:\n",
    "            x, color, label = hline\n",
    "            plt.axvline(x=x, color=color, linestyle='dashed', label=f\"{label} - {x: >2}th - {cumulative_variance[x-1]:.2f} %\")\n",
    "            if add_hline:\n",
    "                plt.axhline(y=cumulative_variance[x-1], color=color, linestyle='dashed')\n",
    "            \n",
    "    \n",
    "    plt.axhline(y=100, color='black', linestyle='dotted')\n",
    "    \n",
    "    plt.title(\"Cumulative explained variance\")\n",
    "    plt.ylabel(\"Explained variance (%)\")\n",
    "    plt.xlabel(\"Principal component\")\n",
    "    plt.legend()\n",
    "    \n",
    "    plt.show()"

   "source": [
    "plot_pca(data.iloc[:, :-1], \n",
    "            (\n",
    "                (5, \"tomato\", \"IBM\"), \n",
    "                (12, \"green\", \"Sim\")\n",

  }
 ],
 "metadata": {
  "kernelspec": {
   "display_name": "Python 3 (ipykernel)",
   "language": "python",
   "name": "python3"
  },
  "language_info": {
   "codemirror_mode": {
    "name": "ipython",
    "version": 3
   },
   "file_extension": ".py",
   "mimetype": "text/x-python",
   "name": "python",
   "nbconvert_exporter": "python",
   "pygments_lexer": "ipython3",
   "version": "3.11.7"
  }
 },
 "nbformat": 4,
 "nbformat_minor": 5
}
